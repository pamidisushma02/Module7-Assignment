{
 "cells": [
  {
   "cell_type": "markdown",
   "metadata": {},
   "source": [
    "# Web Mining and Applied NLP (44-620)\n",
    "\n",
    "## Final Project: Article Summarizer\n",
    "\n",
    "### Student Name: Sushma Pamidi\n",
    "\n",
    "Github URL: https://github.com/pamidisushma02/Module7-Assignment.git\n",
    "\n",
    "\n",
    "\n",
    "\n",
    "Perform the tasks described in the Markdown cells below.  When you have completed the assignment make sure your code cells have all been run (and have output beneath them) and ensure you have committed and pushed ALL of your changes to your assignment repository.\n",
    "\n",
    "You should bring in code from previous assignments to help you answer the questions below.\n",
    "\n",
    "Every question that requires you to write code will have a code cell underneath it; you may either write your entire solution in that cell or write it in a python file (`.py`), then import and run the appropriate code to answer the question."
   ]
  },
  {
   "cell_type": "markdown",
   "metadata": {},
   "source": [
    "Question 1. Find on the internet an article or blog post about a topic that interests you and you are able to get the text for using the technologies we have applied in the course.  Get the html for the article and store it in a file (which you must submit with your project)"
   ]
  },
  {
   "cell_type": "code",
   "execution_count": 1,
   "metadata": {},
   "outputs": [],
   "source": [
    "import requests\n",
    "\n",
    "article_page = requests.get('https://www.worldbank.org/en/news/press-release/2022/09/15/risk-of-global-recession-in-2023-rises-amid-simultaneous-rate-hikes')\n",
    "article_html = article_page.text\n",
    "\n",
    "import pickle\n",
    "with open('worldbank_article.pkl', 'wb') as f:\n",
    "    pickle.dump(article_page.text, f)"
   ]
  },
  {
   "cell_type": "markdown",
   "metadata": {},
   "source": [
    "Question 2. Read in your article's html source from the file you created in question 1 and do sentiment analysis on the article/post's text (use `.get_text()`).  Print the polarity score with an appropriate label.  Additionally print the number of sentences in the original article (with an appropriate label)"
   ]
  },
  {
   "cell_type": "code",
   "execution_count": 26,
   "metadata": {},
   "outputs": [
    {
     "name": "stdout",
     "output_type": "stream",
     "text": [
      "Sentiment Analysis: Sentiment(polarity=0.021268426562544206, subjectivity=0.28898324986560275)\n",
      "=============================\n",
      "Polarity: 0.021268426562544206\n",
      "=============================\n",
      "Sentiment Analysis: [(['central'], 0.0, 0.25, None), (['global'], 0.0, 0.0, None), (['financial'], 0.0, 0.0, None), (['lasting'], 0.0, 0.0, None), (['new'], 0.13636363636363635, 0.45454545454545453, None), (['past'], -0.25, 0.25, None), (['likely'], 0.0, 1.0, None), (['next'], 0.0, 0.0, None), (['currently', 'expected'], -0.1, 0.4, None), (['other'], -0.125, 0.375, None), (['global'], 0.0, 0.0, None), (['back'], 0.0, 0.0, None), (['down'], -0.15555555555555559, 0.2888888888888889, None), (['central'], 0.0, 0.25, None), (['global'], 0.0, 0.0, None), (['more'], 0.5, 0.5, None), (['global'], 0.0, 0.0, None), (['double'], 0.0, 0.0, None), (['average'], -0.15, 0.39999999999999997, None), (['global'], 0.0, 0.0, None), (['consistent'], 0.25, 0.25, None), (['central'], 0.0, 0.25, None), (['global'], 0.0, 0.0, None), (['slow'], -0.30000000000000004, 0.39999999999999997, None), (['technical'], 0.0, 0.1, None), (['global'], 0.0, 0.0, None), (['global'], 0.0, 0.0, None), (['sharply'], -0.125, 0.75, None), (['further'], 0.0, 0.5, None), (['likely'], 0.0, 1.0, None), (['more'], 0.5, 0.5, None), (['deep'], 0.0, 0.4, None), (['devastating'], -1.0, 1.0, None), (['low'], 0.0, 0.3, None), (['critical'], 0.0, 0.8, None), (['unusually'], 0.2, 1.0, None), (['central'], 0.0, 0.25, None), (['several'], 0.0, 0.0, None), (['historical'], 0.0, 0.0, None), (['global'], 0.0, 0.0, None), (['global'], 0.0, 0.0, None), (['following'], 0.0, 0.1, None), (['global'], 0.0, 0.0, None), (['much'], 0.2, 0.2, None), (['previous'], -0.16666666666666666, 0.16666666666666666, None), (['global'], 0.0, 0.0, None), (['sharply'], -0.125, 0.75, None), (['moderate'], 0.0, 0.7, None), (['global'], 0.0, 0.0, None), (['next'], 0.0, 0.0, None), (['previous'], -0.16666666666666666, 0.16666666666666666, None), (['global'], 0.0, 0.0, None), (['recent'], 0.0, 0.25, None), (['economic'], 0.2, 0.2, None), (['limited'], -0.07142857142857142, 0.14285714285714285, None), (['many'], 0.5, 0.5, None), (['global'], 0.0, 0.0, None), (['global'], 0.0, 0.0, None), (['subsequent'], 0.0, 0.05, None), (['global'], 0.0, 0.0, None), (['long'], -0.05, 0.4, None), (['weak'], -0.375, 0.625, None), (['global'], 0.0, 0.0, None), (['past'], -0.25, 0.25, None), (['second'], 0.0, 0.0, None), (['only'], 0.0, 1.0, None), (['more'], 0.5, 0.5, None), (['many'], 0.5, 0.5, None), (['recent'], 0.0, 0.25, None), (['likely'], 0.0, 1.0, None), (['acting'], 0.0, 0.0, None), (['highly'], 0.16, 0.5399999999999999, None), (['financial'], 0.0, 0.0, None), (['global'], 0.0, 0.0, None), (['ready'], 0.2, 0.5, None), (['potential'], 0.0, 1.0, None), (['globally'], 0.0, 0.0, None), (['central'], 0.0, 0.25, None), (['touching'], 0.5, 0.5, None), (['global'], 0.0, 0.0, None), (['action'], 0.1, 0.1, None), (['clearly'], 0.10000000000000002, 0.3833333333333333, None), (['advanced'], 0.4, 0.6, None), (['central'], 0.0, 0.25, None), (['carefully'], -0.1, 1.0, None), (['next'], 0.0, 0.0, None), (['expected'], -0.1, 0.4, None), (['early'], 0.1, 0.3, None), (['credible'], 0.4, 0.7, None), (['vulnerable'], -0.5, 0.5, None), (['economic'], 0.2, 0.2, None), (['strong'], 0.4333333333333333, 0.7333333333333333, None), (['global'], 0.0, 0.0, None), ([':o'], 0.05, 1.0, 'mood'), (['global'], 0.0, 0.0, None), (['global'], 0.0, 0.0, None), (['long'], -0.05, 0.4, None), (['global'], 0.0, 0.0, None), (['global'], 0.0, 0.0, None), (['international'], 0.0, 0.0, None), (['economic'], 0.2, 0.2, None), (['further'], 0.0, 0.5, None)]\n",
      "=============================\n"
     ]
    }
   ],
   "source": [
    "with open('worldbank_article.pkl', 'rb') as f:\n",
    "    article_html = pickle.load(f)\n",
    "\n",
    "from bs4 import BeautifulSoup\n",
    "\n",
    "soup = BeautifulSoup(article_html, 'html5lib')\n",
    "\n",
    "article_element = soup.find('article')\n",
    "\n",
    "#print(article_element.get_text())\n",
    "\n",
    "\n",
    "import spacy\n",
    "from spacytextblob.spacytextblob import SpacyTextBlob\n",
    "\n",
    "nlp = spacy.load('en_core_web_sm')\n",
    "\n",
    "nlp.add_pipe('spacytextblob')\n",
    "doc = nlp(article_element.get_text())\n",
    "\n",
    "\n",
    "print(f'Sentiment Analysis: {doc._.blob.sentiment}')\n",
    "print(\"=============================\")\n",
    "\n",
    "print(f'Polarity: {doc._.polarity}')\n",
    "print(\"=============================\")\n",
    "\n",
    "print(f'Sentiment Analysis: {doc._.blob.sentiment_assessments.assessments}')\n",
    "print(\"=============================\")\n",
    "\n"
   ]
  },
  {
   "cell_type": "code",
   "execution_count": 75,
   "metadata": {},
   "outputs": [
    {
     "name": "stdout",
     "output_type": "stream",
     "text": [
      "\n",
      "Total Number of sentences: 46\n",
      "[\n",
      "        \n",
      "        Study Highlights Need for Policies to Curb Inflation Without Exacerbating Recession RiskWASHINGTON, September 15, 2022—As central banks across the world simultaneously hike interest rates in response to inflation, the world may be edging toward a global recession in 2023 and a string of financial crises in emerging market and developing economies that would do them lasting harm, according to a comprehensive new study by the World Bank., Central banks around the world have been raising interest rates this year with a degree of synchronicity not seen over the past five decades—a trend that is likely to continue well into next year, according to the report., Yet the currently expected trajectory of interest-rate increases and other policy actions may not be sufficient to bring global inflation back down to levels seen before the pandemic., Investors expect central banks to raise global monetary-policy rates to almost 4 percent through 2023—an increase of more than 2 percentage points over their 2021 average., Unless supply disruptions and labor-market pressures subside, those interest-rate increases could leave the global core inflation rate (excluding energy) at about 5 percent in 2023—nearly double the five-year average before the pandemic, the study finds., To cut global inflation to a rate consistent with their targets, central banks may need to raise interest rates by an additional 2 percentage points, according to the report’s model., If this were accompanied by financial-market stress, global GDP growth would slow to 0.5 percent in 2023—a 0.4 percent contraction in per–capita terms that would meet the technical definition of a global recession., “Global growth is slowing sharply, with further slowing likely as more countries fall into recession., My deep concern is that these trends will persist, with long-lasting consequences that are devastating for people in emerging market and developing economies,” said World Bank Group President David Malpass., “To achieve low inflation rates, currency stability and faster growth, policymakers could shift their focus from reducing consumption to boosting production., Policies should seek to generate additional investment and improve productivity and capital allocation, which are critical for growth and poverty reduction.”The, study highlights the unusually fraught circumstances under which central banks are fighting inflation today., Several historical indicators of global recessions are already flashing warnings., The global economy is now in its steepest slowdown following a post-recession recovery since 1970., Global consumer confidence has already suffered a much sharper decline than in the run-up to previous global recessions., The world’s three largest economies—the United States, China, and the euro area—have been slowing sharply., Under the circumstances, even a moderate hit to the global economy over the next year could tip it into recession., The study relies on insights from previous global recessions to analyze the recent evolution of economic activity and presents scenarios for 2022–24., A slowdown—such that the one now underway—typically calls for countercyclical policy to support activity., However, the threat of inflation and limited fiscal space are spurring policymakers in many countries to withdraw policy support even as the global economy slows sharply., The experience of the 1970s, the policy responses to the 1975 global recession, the subsequent period of stagflation, and the global recession of 1982 illustrate the risk of allowing inflation to remain elevated for long while growth is weak., The 1982 global recession coincided with the second-lowest growth rate in developing economies over the past five decades, second only to 2020., It triggered more than 40 debt crises] and was followed by a decade of lost growth in many developing economies.“Recent, tightening of monetary and fiscal policies will likely prove helpful in reducing inflation,” said Ayhan Kose, the World Bank’s Acting Vice President for Equitable Growth, Finance, and Institutions., “But because they are highly synchronous across countries, they could be mutually compounding in tightening financial conditions and steepening the global growth slowdown., Policymakers in emerging market and developing economies need to stand ready to manage the potential spillovers from globally synchronous tightening of policies.”Central, banks should persist in their efforts to control inflation—and it can be done without touching off a global recession, the study finds., But it will require concerted action by a variety of policymakers:Central banks must communicate policy decisions clearly while safeguarding their independence., This could help anchor inflation expectations and reduce the degree of tightening needed., In advanced economies, central banks should keep in mind the cross-border spillover effects of monetary tightening., In emerging market and developing economies, they should strengthen macroprudential regulations and build foreign-exchange reserves. , Fiscal authorities will need to carefully calibrate the withdrawal of fiscal support measures while ensuring consistency with monetary-policy objectives., The fraction of countries tightening fiscal policies next year is expected to reach its highest level since the early 1990s., This could amplify the effects of monetary policy on growth., Policymakers should also put in place credible medium-term fiscal plans and provide targeted relief to vulnerable households., Other economic policymakers will need to join in the fight against inflation—particularly by taking strong steps to boost global supply., These include:   o  Easing labor-market constraints. , Policy measures need to help increase labor-force participation and reduce price pressures., Labor-market policies can facilitate the reallocation of displaced workers.    , o  Boosting the global supply of commodities. , Global coordination can go a long way in increasing food and energy supply., For energy commodities, policymakers should accelerate the transition to low–carbon energy sources and introduce measures to reduce energy consumption.   , o  Strengthening global trade networks. , Policymakers should cooperate to alleviate global supply bottlenecks., They should support a rules-based international economic order, one that guards against the threat of protectionism and fragmentation that could further disrupt trade networks., Download the study.   \n",
      "]\n"
     ]
    }
   ],
   "source": [
    "#Count number of sentences in the article\n",
    "\n",
    "sentences = list(doc.sents)\n",
    "count = 0\n",
    "\n",
    "for sentence in sentences:\n",
    "    count += 1\n",
    "    \n",
    "print('')\n",
    "print(\"Total Number of sentences:\",count) #print the list of scores\n",
    "\n",
    "print(sentences)"
   ]
  },
  {
   "cell_type": "markdown",
   "metadata": {},
   "source": [
    "Question 3. Load the article text into a trained `spaCy` pipeline, and determine the 5 most frequent tokens (converted to lower case).  Print the common tokens with an appropriate label.  Additionally, print the tokens their frequencies (with appropriate labels)"
   ]
  },
  {
   "cell_type": "code",
   "execution_count": 31,
   "metadata": {},
   "outputs": [
    {
     "name": "stdout",
     "output_type": "stream",
     "text": [
      "The 5 most frequent tokens:  [('global', 24), ('inflation', 13), ('recession', 10), ('growth', 10), ('policy', 9)]\n"
     ]
    }
   ],
   "source": [
    "import spacy\n",
    "from spacytextblob.spacytextblob import SpacyTextBlob\n",
    "\n",
    "nlp = spacy.load('en_core_web_sm')\n",
    "\n",
    "nlp.add_pipe('spacytextblob')\n",
    "doc = nlp(article_element.get_text())\n",
    "\n",
    "\n",
    "from collections import Counter\n",
    "\n",
    "def we_care_about(token):\n",
    "    return not (token.is_space or token.is_punct or token.is_stop)\n",
    "\n",
    "interesting_token = [token for token in doc if we_care_about(token)]\n",
    "\n",
    "for j in range(len(interesting_token)):\n",
    "    interesting_token[j] = str(interesting_token[j])\n",
    "    interesting_token[j] = interesting_token[j].lower()\n",
    "\n",
    "word_freq = Counter(map(str,interesting_token))\n",
    "\n",
    "print(\"The 5 most frequent tokens: \",word_freq.most_common(5))"
   ]
  },
  {
   "cell_type": "markdown",
   "metadata": {},
   "source": [
    "Question 4. Load the article text into a trained `spaCy` pipeline, and determine the 5 most frequent lemmas (converted to lower case).  Print the common lemmas with an appropriate label.  Additionally, print the lemmas with their frequencies (with appropriate labels)."
   ]
  },
  {
   "cell_type": "code",
   "execution_count": 32,
   "metadata": {},
   "outputs": [
    {
     "name": "stdout",
     "output_type": "stream",
     "text": [
      "The 5 most frequent lemmas:  [('global', 24), ('policy', 15), ('inflation', 13), ('recession', 13), ('bank', 11)]\n"
     ]
    }
   ],
   "source": [
    "interesting_lemmas = [token.lemma_.lower() for token in doc if we_care_about(token)]\n",
    "lemma_freq = Counter(interesting_lemmas)\n",
    "print(\"The 5 most frequent lemmas: \",lemma_freq.most_common(5))"
   ]
  },
  {
   "cell_type": "markdown",
   "metadata": {},
   "source": [
    "Question 5. Make a list containing the scores (using tokens) of every sentence in the article, and plot a histogram with appropriate titles and axis labels of the scores. From your histogram, what seems to be the most common range of scores (put the answer in a comment after your code)?"
   ]
  },
  {
   "cell_type": "code",
   "execution_count": 71,
   "metadata": {},
   "outputs": [
    {
     "name": "stdout",
     "output_type": "stream",
     "text": [
      "\n",
      "List of scores of every sentence in the article using tokens [34, 16, 14, 16, 22, 16, 20, 8, 15, 13, 14, 8, 3, 7, 8, 9, 7, 10, 7, 12, 21, 12, 6, 20, 7, 13, 7, 10, 6, 10, 7, 10, 8, 4, 8, 10, 4, 9, 6, 4, 8, 10, 4, 4, 9, 2]\n",
      "\n"
     ]
    },
    {
     "data": {
      "image/png": "[encoded data removed]",
      "text/plain": [
       "<Figure size 640x480 with 1 Axes>"
      ]
     },
     "metadata": {},
     "output_type": "display_data"
    }
   ],
   "source": [
    "sentences = list(doc.sents) \n",
    "\n",
    "scores = [] #list of scores)\n",
    "\n",
    "for sentence in sentences:\n",
    "    count = 0\n",
    "    for token in sentence:\n",
    "        if token.lemma_.lower() in interesting_token: #using tokens\n",
    "            count += 1\n",
    "    \n",
    "    sent_str = str(sentence).replace('\\n','').replace('  ',' ')\n",
    "    #print(count,':', sent_str) # prints scores for each sentence as suggested in the question\n",
    "   \n",
    "    scores.append(count)  #append scores for each line\n",
    "\n",
    "print('')\n",
    "print(\"List of scores of every sentence in the article using tokens\",scores) #print the list of scores\n",
    "print('')\n",
    "\n",
    "#Ploting histogram\n",
    "from matplotlib import pyplot as plt\n",
    "import numpy as np\n",
    "\n",
    "plt.hist(scores, bins=100)\n",
    "\n",
    "plt.xlabel('Score')\n",
    "plt.ylabel('Count of Score')\n",
    "plt.title('Frequency of Token Scores per Sentence')\n",
    "plt.show()\n",
    "\n",
    "#From the histogram, the most common range of scores seems to be 5-10"
   ]
  },
  {
   "cell_type": "markdown",
   "metadata": {},
   "source": [
    "Question 6: Make a list containing the scores (using lemmas) of every sentence in the article, and plot a histogram with appropriate titles and axis labels of the scores.  From your histogram, what seems to be the most common range of scores (put the answer in a comment after your code)?"
   ]
  },
  {
   "cell_type": "code",
   "execution_count": 43,
   "metadata": {},
   "outputs": [
    {
     "name": "stdout",
     "output_type": "stream",
     "text": [
      "\n",
      "List of scores using Lemmas [41, 18, 15, 18, 26, 19, 21, 9, 20, 15, 14, 10, 6, 9, 10, 10, 8, 14, 8, 15, 22, 14, 11, 21, 12, 16, 10, 13, 8, 11, 11, 14, 12, 5, 12, 13, 6, 11, 7, 5, 8, 14, 5, 6, 13, 2]\n"
     ]
    },
    {
     "data": {
      "image/png": "[encoded data removed]",
      "text/plain": [
       "<Figure size 640x480 with 1 Axes>"
      ]
     },
     "metadata": {},
     "output_type": "display_data"
    }
   ],
   "source": [
    "sentences = list(doc.sents)\n",
    "\n",
    "scores = [] #list of scores)\n",
    "\n",
    "for sentence in sentences:\n",
    "    count = 0\n",
    "    for token in sentence:\n",
    "        if token.lemma_.lower() in interesting_lemmas: #using lemmas\n",
    "            count += 1\n",
    "    \n",
    "    sent_str = str(sentence).replace('\\n','').replace('  ',' ')\n",
    "    #print(count,':', sent_str) # prints scores for each sentence as suggested in the question\n",
    "    scores.append(count)  #append scores for each line\n",
    "\n",
    "print('')\n",
    "print(\"List of scores using Lemmas\",scores) #print the list of scores\n",
    "\n",
    "#Ploting histogram\n",
    "from matplotlib import pyplot as plt\n",
    "import numpy as np\n",
    "\n",
    "plt.hist(scores, bins=100)\n",
    "\n",
    "plt.xlabel('Score')\n",
    "plt.ylabel('Count of Score')\n",
    "plt.title('Frequency of Lemma Scores per Sentence')\n",
    "plt.show()\n",
    "\n",
    "#From the histogram, the most common range of scores seems to be 10. If we were to seek a range, it is 10-15"
   ]
  },
  {
   "cell_type": "markdown",
   "metadata": {},
   "source": [
    "Question 7: Using the histograms from questions 5 and 6, decide a \"cutoff\" score for tokens and lemmas such that fewer than half the sentences would have a score greater than the cutoff score.  Record the scores in this Markdown cell\n",
    "\n",
    "* Cutoff Score (tokens): 16\n",
    "* Cutoff Score (lemmas):15\n",
    "\n",
    "Feel free to change these scores as you generate your summaries.  Ideally, we're shooting for at least 6 sentences for our summary, but don't want more than 10 (these numbers are rough estimates; they depend on the length of your article)."
   ]
  },
  {
   "cell_type": "markdown",
   "metadata": {},
   "source": [
    "Question 8: Create a summary of the article by going through every sentence in the article and adding it to an (initially) empty list if its score (based on tokens) is greater than the cutoff score you identified in question 8.  If your loop variable is named `sent`, you may find it easier to add `sent.text.strip()` to your list of sentences.  Print the summary (I would cleanly generate the summary text by `join`ing the strings in your list together with a space (`' '.join(sentence_list)`)."
   ]
  },
  {
   "cell_type": "code",
   "execution_count": 113,
   "metadata": {},
   "outputs": [
    {
     "name": "stdout",
     "output_type": "stream",
     "text": [
      "\n",
      "The Summary of the article based on token cutoff score:\n",
      "        Study Highlights Need for Policies to Curb Inflation Without Exacerbating Recession RiskWASHINGTON, September 15, 2022—As central banks across the world simultaneously hike interest rates in response to inflation, the world may be edging toward a global recession in 2023 and a string of financial crises in emerging market and developing economies that would do them lasting harm, according to a comprehensive new study by the World Bank.Unless supply disruptions and labor-market pressures subside, those interest-rate increases could leave the global core inflation rate (excluding energy) at about 5 percent in 2023—nearly double the five-year average before the pandemic, the study finds.If this were accompanied by financial-market stress, global GDP growth would slow to 0.5 percent in 2023—a 0.4 percent contraction in per–capita terms that would meet the technical definition of a global recession.The experience of the 1970s, the policy responses to the 1975 global recession, the subsequent period of stagflation, and the global recession of 1982 illustrate the risk of allowing inflation to remain elevated for long while growth is weak.tightening of monetary and fiscal policies will likely prove helpful in reducing inflation,” said Ayhan Kose, the World Bank’s Acting Vice President for Equitable Growth, Finance, and Institutions.\n",
      "\n"
     ]
    }
   ],
   "source": [
    "sentences = list(doc.sents) \n",
    "\n",
    "summary = []\n",
    "\n",
    "for sentence in sentences:\n",
    "    count = 0\n",
    "    for token in sentence:\n",
    "        if token.lemma_.lower() in interesting_token: #using tokens\n",
    "            count += 1\n",
    "    \n",
    "    sent_str = str(sentence).replace('\\n','').replace('  ',' ')\n",
    "    if count > 16:\n",
    "        summary.append(sent_str)\n",
    "\n",
    "summary_token = \"\"\n",
    "for j in summary:\n",
    "    summary_token += j\n",
    "    \n",
    "\n",
    "    \n",
    "print('')\n",
    "print(\"The Summary of the article based on token cutoff score:\") \n",
    "print(summary_token) #print the summary\n",
    "print('')\n"
   ]
  },
  {
   "cell_type": "markdown",
   "metadata": {},
   "source": [
    "Question 9: Print the polarity score of your summary you generated with the token scores (with an appropriate label). Additionally, print the number of sentences in the summarized article."
   ]
  },
  {
   "cell_type": "code",
   "execution_count": 114,
   "metadata": {},
   "outputs": [
    {
     "name": "stdout",
     "output_type": "stream",
     "text": [
      "Polarity score of the summary generated with tokens is:  -0.020202020202020207\n",
      "\n",
      "Sentiment Analysis of the summary generated with tokens is:  [(['central'], 0.0, 0.25, None), (['global'], 0.0, 0.0, None), (['financial'], 0.0, 0.0, None), (['lasting'], 0.0, 0.0, None), (['new'], 0.13636363636363635, 0.45454545454545453, None), (['global'], 0.0, 0.0, None), (['double'], 0.0, 0.0, None), (['average'], -0.15, 0.39999999999999997, None), (['global'], 0.0, 0.0, None), (['slow'], -0.30000000000000004, 0.39999999999999997, None), (['technical'], 0.0, 0.1, None), (['global'], 0.0, 0.0, None), (['global'], 0.0, 0.0, None), (['subsequent'], 0.0, 0.05, None), (['global'], 0.0, 0.0, None), (['long'], -0.05, 0.4, None), (['likely'], 0.0, 1.0, None), (['acting'], 0.0, 0.0, None)]\n",
      "\n",
      "\n",
      "Total Number of sentences in the Summary based on tokens is: 5\n"
     ]
    }
   ],
   "source": [
    "import spacy\n",
    "from spacytextblob.spacytextblob import SpacyTextBlob\n",
    "\n",
    "from textblob import TextBlob\n",
    "text = summary_token\n",
    "blob = TextBlob(text)\n",
    "\n",
    "print(\"Polarity score of the summary generated with tokens is: \", blob.sentiment_assessments.polarity)\n",
    "print()\n",
    "\n",
    "print(\"Sentiment Analysis of the summary generated with tokens is: \", blob.sentiment_assessments.assessments)\n",
    "print()\n",
    "\n",
    "\n",
    "#Count number of sentences in the Summary\n",
    "\n",
    "count = 0\n",
    "\n",
    "for sentence in summary:\n",
    "    count += 1\n",
    "    \n",
    "print('')\n",
    "print(\"Total Number of sentences in the Summary based on tokens is:\",count) #print the list of scores\n"
   ]
  },
  {
   "cell_type": "markdown",
   "metadata": {},
   "source": [
    "Question 10: Create a summary of the article by going through every sentence in the article and adding it to an (initially) empty list if its score (based on lemmas) is greater than the cutoff score you identified in question 8.  If your loop variable is named `sent`, you may find it easier to add `sent.text.strip()` to your list of sentences.  Print the summary (I would cleanly generate the summary text by `join`ing the strings in your list together with a space (`' '.join(sentence_list)`)."
   ]
  },
  {
   "cell_type": "code",
   "execution_count": 115,
   "metadata": {},
   "outputs": [
    {
     "name": "stdout",
     "output_type": "stream",
     "text": [
      "\n",
      "The Summary of the article based on Lemma cut off score:\n",
      "        Study Highlights Need for Policies to Curb Inflation Without Exacerbating Recession RiskWASHINGTON, September 15, 2022—As central banks across the world simultaneously hike interest rates in response to inflation, the world may be edging toward a global recession in 2023 and a string of financial crises in emerging market and developing economies that would do them lasting harm, according to a comprehensive new study by the World Bank.Central banks around the world have been raising interest rates this year with a degree of synchronicity not seen over the past five decades—a trend that is likely to continue well into next year, according to the report.Investors expect central banks to raise global monetary-policy rates to almost 4 percent through 2023—an increase of more than 2 percentage points over their 2021 average.Unless supply disruptions and labor-market pressures subside, those interest-rate increases could leave the global core inflation rate (excluding energy) at about 5 percent in 2023—nearly double the five-year average before the pandemic, the study finds.To cut global inflation to a rate consistent with their targets, central banks may need to raise interest rates by an additional 2 percentage points, according to the report’s model.If this were accompanied by financial-market stress, global GDP growth would slow to 0.5 percent in 2023—a 0.4 percent contraction in per–capita terms that would meet the technical definition of a global recession.My deep concern is that these trends will persist, with long-lasting consequences that are devastating for people in emerging market and developing economies,” said World Bank Group President David Malpass.The experience of the 1970s, the policy responses to the 1975 global recession, the subsequent period of stagflation, and the global recession of 1982 illustrate the risk of allowing inflation to remain elevated for long while growth is weak.tightening of monetary and fiscal policies will likely prove helpful in reducing inflation,” said Ayhan Kose, the World Bank’s Acting Vice President for Equitable Growth, Finance, and Institutions.Policymakers in emerging market and developing economies need to stand ready to manage the potential spillovers from globally synchronous tightening of policies.”Central\n",
      "\n"
     ]
    }
   ],
   "source": [
    "sentences = list(doc.sents) \n",
    "\n",
    "summary = []\n",
    "\n",
    "for sentence in sentences:\n",
    "    count = 0\n",
    "    for token in sentence:\n",
    "        if token.lemma_.lower() in interesting_lemmas: #using tokens\n",
    "            count += 1\n",
    "    \n",
    "    sent_str = str(sentence).replace('\\n','').replace('  ',' ')\n",
    "    if count > 15:\n",
    "        summary.append(sent_str)\n",
    "    \n",
    "summary_lemma = \"\"\n",
    "for j in summary:\n",
    "    summary_lemma += j\n",
    "    \n",
    "print('')\n",
    "print(\"The Summary of the article based on Lemma cut off score:\") #print the summary\n",
    "print(summary_lemma) #print the summary\n",
    "print('')"
   ]
  },
  {
   "cell_type": "markdown",
   "metadata": {},
   "source": [
    "Question 11:  Print the polarity score of your summary you generated with the lemma scores (with an appropriate label). Additionally, print the number of sentences in the summarized article."
   ]
  },
  {
   "cell_type": "code",
   "execution_count": 116,
   "metadata": {},
   "outputs": [
    {
     "name": "stdout",
     "output_type": "stream",
     "text": [
      "Polarity score of the summary generated with lemma scores is:  -0.020110192837465568\n",
      "\n",
      "Sentiment Analysis of the summary generated with lemma scores is:  [(['central'], 0.0, 0.25, None), (['global'], 0.0, 0.0, None), (['financial'], 0.0, 0.0, None), (['lasting'], 0.0, 0.0, None), (['new'], 0.13636363636363635, 0.45454545454545453, None), (['past'], -0.25, 0.25, None), (['likely'], 0.0, 1.0, None), (['next'], 0.0, 0.0, None), (['central'], 0.0, 0.25, None), (['global'], 0.0, 0.0, None), (['more'], 0.5, 0.5, None), (['global'], 0.0, 0.0, None), (['double'], 0.0, 0.0, None), (['average'], -0.15, 0.39999999999999997, None), (['global'], 0.0, 0.0, None), (['consistent'], 0.25, 0.25, None), (['central'], 0.0, 0.25, None), (['global'], 0.0, 0.0, None), (['slow'], -0.30000000000000004, 0.39999999999999997, None), (['technical'], 0.0, 0.1, None), (['global'], 0.0, 0.0, None), (['deep'], 0.0, 0.4, None), (['devastating'], -1.0, 1.0, None), (['global'], 0.0, 0.0, None), (['subsequent'], 0.0, 0.05, None), (['global'], 0.0, 0.0, None), (['long'], -0.05, 0.4, None), (['likely'], 0.0, 1.0, None), (['acting'], 0.0, 0.0, None), (['ready'], 0.2, 0.5, None), (['potential'], 0.0, 1.0, None), (['globally'], 0.0, 0.0, None), (['central'], 0.0, 0.25, None)]\n",
      "\n",
      "\n",
      "Total Number of sentences in the Summary based on lemmas is: 10\n"
     ]
    }
   ],
   "source": [
    "import spacy\n",
    "from spacytextblob.spacytextblob import SpacyTextBlob\n",
    "\n",
    "from textblob import TextBlob\n",
    "text = summary_lemma\n",
    "blob = TextBlob(text)\n",
    "\n",
    "print(\"Polarity score of the summary generated with lemma scores is: \", blob.sentiment_assessments.polarity)\n",
    "print()\n",
    "\n",
    "print(\"Sentiment Analysis of the summary generated with lemma scores is: \", blob.sentiment_assessments.assessments)\n",
    "print()\n",
    "\n",
    "\n",
    "#Count number of sentences in the Summary\n",
    "\n",
    "count = 0\n",
    "\n",
    "for sentence in summary:\n",
    "    count += 1\n",
    "    \n",
    "print('')\n",
    "print(\"Total Number of sentences in the Summary based on lemmas is:\",count) #print the list of scores"
   ]
  },
  {
   "cell_type": "markdown",
   "metadata": {},
   "source": [
    "Question 12:  Compare your polarity scores of your summaries to the polarity scores of the initial article.  Is there a difference?  Why do you think that may or may not be?.  Answer in this Markdown cell.  \n",
    "\n",
    "The polarity score of the initial article is 0.021268426562544206\n",
    "Polarity score of the summary generated with tokens is:  -0.020202020202020207\n",
    "Polarity score of the summary generated with lemma scores is:  -0.020110192837465568\n",
    "\n",
    "Yes, there is a difference. The initial article had more number of sentences to analyze. The article had 46 sentences. However, the summaries have 5 & 10 sentences. Therefore, the initial article had more content to analyze the tone of the article. A Summary has less number of sentences and thus less content. The tone changed from slightly positive to slightly negative polarity as some of the content that contributes to the tone is lost in the process of summarization"
   ]
  },
  {
   "cell_type": "markdown",
   "metadata": {},
   "source": [
    "Question 13:  Based on your reading of the original article, which summary do you think is better (if there's a difference).  Why do you think this might be?\n",
    "\n",
    "Based on my reading of the original article, I believe the summary based on token cutoff is better. This conveys the same information in a much more condensed form (half the sentences as in the Summary based on Lemma cutoff). There are more sentences with higher scores using tokens than that for lemmas. Hence the message that the article conveys can be summarized in a more succient way, with fewer sentences having more tokens than higher number of sentences having fewer lemmas.  "
   ]
  }
 ],
 "metadata": {
  "kernelspec": {
   "display_name": "Python 3 (ipykernel)",
   "language": "python",
   "name": "python3"
  },
  "language_info": {
   "codemirror_mode": {
    "name": "ipython",
    "version": 3
   },
   "file_extension": ".py",
   "mimetype": "text/x-python",
   "name": "python",
   "nbconvert_exporter": "python",
   "pygments_lexer": "ipython3",
   "version": "3.9.13"
  }
 },
 "nbformat": 4,
 "nbformat_minor": 4
}

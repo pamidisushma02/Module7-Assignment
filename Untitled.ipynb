{
 "cells": [
  {
   "cell_type": "markdown",
   "id": "c5ba71f2-29ea-44a3-bf9e-48a03e0e51e9",
   "metadata": {},
   "source": [
    "The Summary of the article based on token cutoff score:\n",
    "        Study Highlights Need for Policies to Curb Inflation Without Exacerbating Recession RiskWASHINGTON, September 15, 2022—As central banks across the world simultaneously hike interest rates in response to inflation, the world may be edging toward a global recession in 2023 and a string of financial crises in emerging market and developing economies that would do them lasting harm, according to a comprehensive new study by the World Bank.Unless supply disruptions and labor-market pressures subside, those interest-rate increases could leave the global core inflation rate (excluding energy) at about 5 percent in 2023—nearly double the five-year average before the pandemic, the study finds.If this were accompanied by financial-market stress, global GDP growth would slow to 0.5 percent in 2023—a 0.4 percent contraction in per–capita terms that would meet the technical definition of a global recession.The experience of the 1970s, the policy responses to the 1975 global recession, the subsequent period of stagflation, and the global recession of 1982 illustrate the risk of allowing inflation to remain elevated for long while growth is weak.tightening of monetary and fiscal policies will likely prove helpful in reducing inflation,” said Ayhan Kose, the World Bank’s Acting Vice President for Equitable Growth, Finance, and Institutions."
   ]
  },
  {
   "cell_type": "markdown",
   "id": "ba06230c-f5b3-4003-8339-ed9c44d3f246",
   "metadata": {},
   "source": [
    "The Summary of the article based on Lemma cut off score:\n",
    "        Study Highlights Need for Policies to Curb Inflation Without Exacerbating Recession RiskWASHINGTON, September 15, 2022—As central banks across the world simultaneously hike interest rates in response to inflation, the world may be edging toward a global recession in 2023 and a string of financial crises in emerging market and developing economies that would do them lasting harm, according to a comprehensive new study by the World Bank.Central banks around the world have been raising interest rates this year with a degree of synchronicity not seen over the past five decades—a trend that is likely to continue well into next year, according to the report.Investors expect central banks to raise global monetary-policy rates to almost 4 percent through 2023—an increase of more than 2 percentage points over their 2021 average.Unless supply disruptions and labor-market pressures subside, those interest-rate increases could leave the global core inflation rate (excluding energy) at about 5 percent in 2023—nearly double the five-year average before the pandemic, the study finds.To cut global inflation to a rate consistent with their targets, central banks may need to raise interest rates by an additional 2 percentage points, according to the report’s model.If this were accompanied by financial-market stress, global GDP growth would slow to 0.5 percent in 2023—a 0.4 percent contraction in per–capita terms that would meet the technical definition of a global recession.My deep concern is that these trends will persist, with long-lasting consequences that are devastating for people in emerging market and developing economies,” said World Bank Group President David Malpass.The experience of the 1970s, the policy responses to the 1975 global recession, the subsequent period of stagflation, and the global recession of 1982 illustrate the risk of allowing inflation to remain elevated for long while growth is weak.tightening of monetary and fiscal policies will likely prove helpful in reducing inflation,” said Ayhan Kose, the World Bank’s Acting Vice President for Equitable Growth, Finance, and Institutions.Policymakers in emerging market and developing economies need to stand ready to manage the potential spillovers from globally synchronous tightening of policies.”Central"
   ]
  }
 ],
 "metadata": {
  "kernelspec": {
   "display_name": "Python 3 (ipykernel)",
   "language": "python",
   "name": "python3"
  },
  "language_info": {
   "codemirror_mode": {
    "name": "ipython",
    "version": 3
   },
   "file_extension": ".py",
   "mimetype": "text/x-python",
   "name": "python",
   "nbconvert_exporter": "python",
   "pygments_lexer": "ipython3",
   "version": "3.9.13"
  }
 },
 "nbformat": 4,
 "nbformat_minor": 5
}
